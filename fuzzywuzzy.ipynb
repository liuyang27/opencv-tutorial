{
 "cells": [
  {
   "cell_type": "code",
   "execution_count": 11,
   "id": "40c24ba6",
   "metadata": {},
   "outputs": [
    {
     "name": "stdout",
     "output_type": "stream",
     "text": [
      "FuzzyWuzzy Ratio:  50\n",
      "FuzzyWuzzy PartialRatio:  50\n",
      "FuzzyWuzzy TokenSortRatio:  38\n",
      "FuzzyWuzzy WRatio:  52\n",
      "Max: 50\n"
     ]
    }
   ],
   "source": [
    "from fuzzywuzzy import fuzz\n",
    "\n",
    "s1 = \"liu yong\"\n",
    "s2 = \"liu dddd\"\n",
    "print (\"FuzzyWuzzy Ratio: \", fuzz.ratio(s1, s2))\n",
    "print (\"FuzzyWuzzy PartialRatio: \", fuzz.partial_ratio(s1, s2))\n",
    "print (\"FuzzyWuzzy TokenSortRatio: \", fuzz.token_sort_ratio(s1, s2))\n",
    "print (\"FuzzyWuzzy WRatio: \", fuzz.WRatio(s1, s2))\n",
    "print(\"Max:\", max(fuzz.partial_ratio(s1, s2),fuzz.token_sort_ratio(s1, s2)))"
   ]
  }
 ],
 "metadata": {
  "kernelspec": {
   "display_name": "Python 3",
   "language": "python",
   "name": "python3"
  },
  "language_info": {
   "codemirror_mode": {
    "name": "ipython",
    "version": 3
   },
   "file_extension": ".py",
   "mimetype": "text/x-python",
   "name": "python",
   "nbconvert_exporter": "python",
   "pygments_lexer": "ipython3",
   "version": "3.8.3"
  }
 },
 "nbformat": 4,
 "nbformat_minor": 5
}
