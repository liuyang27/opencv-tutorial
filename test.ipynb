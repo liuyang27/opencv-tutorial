{
 "cells": [
  {
   "cell_type": "code",
   "execution_count": 3,
   "metadata": {},
   "outputs": [
    {
     "ename": "KeyError",
     "evalue": "'day'",
     "output_type": "error",
     "traceback": [
      "\u001b[1;31m---------------------------------------------------------------------------\u001b[0m",
      "\u001b[1;31mKeyError\u001b[0m                                  Traceback (most recent call last)",
      "\u001b[1;32m<ipython-input-3-6687ac68fba8>\u001b[0m in \u001b[0;36m<module>\u001b[1;34m\u001b[0m\n\u001b[0;32m     22\u001b[0m ]\n\u001b[0;32m     23\u001b[0m \u001b[1;33m\u001b[0m\u001b[0m\n\u001b[1;32m---> 24\u001b[1;33m \u001b[0ml1\u001b[0m\u001b[1;33m=\u001b[0m\u001b[0msorted\u001b[0m\u001b[1;33m(\u001b[0m\u001b[0ml\u001b[0m\u001b[1;33m,\u001b[0m\u001b[0mkey\u001b[0m\u001b[1;33m=\u001b[0m\u001b[1;32mlambda\u001b[0m \u001b[0mx\u001b[0m\u001b[1;33m:\u001b[0m \u001b[1;33m(\u001b[0m\u001b[0mx\u001b[0m\u001b[1;33m[\u001b[0m\u001b[1;34m\"year\"\u001b[0m\u001b[1;33m]\u001b[0m\u001b[1;33m,\u001b[0m\u001b[0mx\u001b[0m\u001b[1;33m[\u001b[0m\u001b[1;34m\"month\"\u001b[0m\u001b[1;33m]\u001b[0m\u001b[1;33m,\u001b[0m\u001b[0mx\u001b[0m\u001b[1;33m[\u001b[0m\u001b[1;34m\"day\"\u001b[0m\u001b[1;33m]\u001b[0m\u001b[1;33m)\u001b[0m\u001b[1;33m)\u001b[0m\u001b[1;33m\u001b[0m\u001b[1;33m\u001b[0m\u001b[0m\n\u001b[0m\u001b[0;32m     25\u001b[0m \u001b[0mprint\u001b[0m\u001b[1;33m(\u001b[0m\u001b[0ml1\u001b[0m\u001b[1;33m)\u001b[0m\u001b[1;33m\u001b[0m\u001b[1;33m\u001b[0m\u001b[0m\n",
      "\u001b[1;32m<ipython-input-3-6687ac68fba8>\u001b[0m in \u001b[0;36m<lambda>\u001b[1;34m(x)\u001b[0m\n\u001b[0;32m     22\u001b[0m ]\n\u001b[0;32m     23\u001b[0m \u001b[1;33m\u001b[0m\u001b[0m\n\u001b[1;32m---> 24\u001b[1;33m \u001b[0ml1\u001b[0m\u001b[1;33m=\u001b[0m\u001b[0msorted\u001b[0m\u001b[1;33m(\u001b[0m\u001b[0ml\u001b[0m\u001b[1;33m,\u001b[0m\u001b[0mkey\u001b[0m\u001b[1;33m=\u001b[0m\u001b[1;32mlambda\u001b[0m \u001b[0mx\u001b[0m\u001b[1;33m:\u001b[0m \u001b[1;33m(\u001b[0m\u001b[0mx\u001b[0m\u001b[1;33m[\u001b[0m\u001b[1;34m\"year\"\u001b[0m\u001b[1;33m]\u001b[0m\u001b[1;33m,\u001b[0m\u001b[0mx\u001b[0m\u001b[1;33m[\u001b[0m\u001b[1;34m\"month\"\u001b[0m\u001b[1;33m]\u001b[0m\u001b[1;33m,\u001b[0m\u001b[0mx\u001b[0m\u001b[1;33m[\u001b[0m\u001b[1;34m\"day\"\u001b[0m\u001b[1;33m]\u001b[0m\u001b[1;33m)\u001b[0m\u001b[1;33m)\u001b[0m\u001b[1;33m\u001b[0m\u001b[1;33m\u001b[0m\u001b[0m\n\u001b[0m\u001b[0;32m     25\u001b[0m \u001b[0mprint\u001b[0m\u001b[1;33m(\u001b[0m\u001b[0ml1\u001b[0m\u001b[1;33m)\u001b[0m\u001b[1;33m\u001b[0m\u001b[1;33m\u001b[0m\u001b[0m\n",
      "\u001b[1;31mKeyError\u001b[0m: 'day'"
     ]
    }
   ],
   "source": [
    "l=[\n",
    "    {\"name\":\"a\",\n",
    "     \"year\":2009,\n",
    "     \"month\":11,\n",
    "     \"day\":31\n",
    "    },\n",
    "    {\"name\":\"b\",\n",
    "     \"year\":2019,\n",
    "     \"month\":7,\n",
    "     \"day\":3\n",
    "    },\n",
    "    {\"name\":\"c\",\n",
    "     \"year\":2009,\n",
    "     \"month\":4,\n",
    "     \"day\":6\n",
    "    },\n",
    "    {\"name\":\"d\",\n",
    "     \"year\":2011,\n",
    "     \"month\":8,\n",
    "     \"day\":22\n",
    "    },\n",
    "]\n",
    "\n",
    "l1=sorted(l,key=lambda x: (x[\"year\"],x[\"month\"],x[\"day\"]))\n",
    "print(l1)"
   ]
  },
  {
   "cell_type": "code",
   "execution_count": 9,
   "metadata": {},
   "outputs": [
    {
     "name": "stdout",
     "output_type": "stream",
     "text": [
      "(liu AND yong)\n"
     ]
    }
   ],
   "source": [
    "import re\n",
    "\n",
    "a = ' AI \"machine learning\" AND  +\"   zhangsan(nus \\\"ihpc\\\")\" supe -(\" 3d    print\" AND \"STUD\" learrr \"LIU YONG   v  \") mac'\n",
    "\n",
    "a='machine learning  -\"deep netwrok\" mac OR fsd'\n",
    "a='\"liu yong\"'\n",
    "def convert_quotes_to_AND(query):\n",
    "    q=query\n",
    "    pattern=re.compile(r'(\\\".*?[^\\\\]\\\")')\n",
    "    contents=pattern.findall(query)\n",
    "    for c in contents:\n",
    "        content=c[1:-1].strip().split()\n",
    "        content=\" AND \".join(content)\n",
    "        content=\"(\"+content+\")\"\n",
    "        q=q.replace(c,content)\n",
    "    return q\n",
    "result=convert_quotes_to_AND(a)\n",
    "print(result)"
   ]
  },
  {
   "cell_type": "code",
   "execution_count": 26,
   "metadata": {},
   "outputs": [
    {
     "name": "stdout",
     "output_type": "stream",
     "text": [
      "liu yang nusgood,nusgood liu yang,yang nusgood liu\n"
     ]
    }
   ],
   "source": [
    "def shift_name(name):\n",
    "    name_str=name\n",
    "    name_segments=name.split()\n",
    "    if len(name_segments)>1:\n",
    "        for i in range(len(name_segments)-1):\n",
    "            temp_item=name_segments.pop()\n",
    "            name_segments.insert(0,temp_item)\n",
    "            name_str=name_str+\",\"+ \" \".join(name_segments)\n",
    "        return name_str\n",
    "    else:\n",
    "        return name_str\n",
    "    \n",
    "new_name=shift_name(\"liu yang nusgood\")\n",
    "print(new_name)"
   ]
  },
  {
   "cell_type": "code",
   "execution_count": 49,
   "metadata": {},
   "outputs": [
    {
     "name": "stdout",
     "output_type": "stream",
     "text": [
      "got error?\n",
      "invalid value...\n",
      "????\n",
      "\n"
     ]
    }
   ],
   "source": [
    "class MyError(Exception):\n",
    "    def __init__(self,msg):\n",
    "        Exception.__init__(self)\n",
    "        self.msg=msg\n",
    "        print(msg)\n",
    "        \n",
    "def testRaise():\n",
    "    try:\n",
    "        r=2/0\n",
    "    except:\n",
    "        print(\"got error?\")\n",
    "        raise MyError('invalid value...')\n",
    "\n",
    "try:\n",
    "    testRaise()\n",
    "except NameError:\n",
    "    print(\"nnnnnn\")\n",
    "except ZeroDivisionError as z:\n",
    "    print(\"hhhhhhhh\")\n",
    "    print(z)\n",
    "# except MyError:\n",
    "#     print(\"my error??\")\n",
    "except Exception as e:\n",
    "    print(\"????\")\n",
    "    print(e)\n",
    "\n",
    "# try:\n",
    "#     print(\"============\")\n",
    "#     testRaise()\n",
    "# except Exception as e:\n",
    "#     print(\"RuntimeError....\")\n",
    "#     print(e)\n",
    "\n",
    "# def fn(s):\n",
    "#     n = int(s)\n",
    "#     if n==0:\n",
    "#         raise ValueError('invalid value: %s' % s)\n",
    "#     return 10 / n\n",
    "\n",
    "# def a():\n",
    "#     try:\n",
    "#         fn('0')\n",
    "#     except ValueError as e:\n",
    "#         print('ValueError!')\n",
    "#         raise\n",
    "\n",
    "# a()\n"
   ]
  },
  {
   "cell_type": "code",
   "execution_count": 16,
   "metadata": {},
   "outputs": [
    {
     "name": "stdout",
     "output_type": "stream",
     "text": [
      "<pymysql.cursors.Cursor object at 0x000001F8744253D0>\n",
      "(1, 'Pacific Northwest high-speed rail line', 'Currently there are only a few options for traveling the 140 miles between Seattle and Vancouver and none of them are ideal.', 'Greg')\n",
      "(2, 'Hitting the beach was voted the best part of life in the region', 'Exploring tracks and trails was second most popular, followed by visiting the shops and then traveling to local parks.', 'Ethan')\n",
      "(3, 'Machine Learning from scratch', 'Bare bones implementations of some of the foundational models and algorithms.', 'Jo')\n",
      "(4, 'test titile', 'contents....', None)\n"
     ]
    }
   ],
   "source": [
    "import pymysql\n",
    "#打开数据库连接\n",
    "conn = pymysql.connect('localhost',user = \"root\",passwd = \"password\",db = \"laps_ly\")\n",
    "cursor=conn.cursor()\n",
    "print(cursor)\n",
    "sql='SELECT * FROM laps_ly.news;'\n",
    "cursor.execute(sql)\n",
    "results = cursor.fetchall()\n",
    "for row in results:\n",
    "    print(row)\n",
    "#     print(row[1])\n",
    "cursor.close()\n",
    "conn.close()"
   ]
  }
 ],
 "metadata": {
  "kernelspec": {
   "display_name": "Python 3",
   "language": "python",
   "name": "python3"
  },
  "language_info": {
   "codemirror_mode": {
    "name": "ipython",
    "version": 3
   },
   "file_extension": ".py",
   "mimetype": "text/x-python",
   "name": "python",
   "nbconvert_exporter": "python",
   "pygments_lexer": "ipython3",
   "version": "3.8.3"
  }
 },
 "nbformat": 4,
 "nbformat_minor": 4
}
